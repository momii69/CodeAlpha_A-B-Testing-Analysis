{
 "cells": [
  {
   "cell_type": "code",
   "execution_count": 1,
   "id": "8ca849c0",
   "metadata": {},
   "outputs": [],
   "source": [
    "import numpy as np\n",
    "import pandas as pd\n",
    "import scipy.stats as stats\n",
    "import matplotlib.pyplot as plt\n",
    "import seaborn as sns\n"
   ]
  },
  {
   "cell_type": "code",
   "execution_count": 4,
   "id": "e8f70007",
   "metadata": {},
   "outputs": [
    {
     "name": "stdout",
     "output_type": "stream",
     "text": [
      "                             auction_id experiment        date  hour  \\\n",
      "0  0008ef63-77a7-448b-bd1e-075f42c55e39    exposed  2020-07-10     8   \n",
      "1  000eabc5-17ce-4137-8efe-44734d914446    exposed  2020-07-07    10   \n",
      "2  0016d14a-ae18-4a02-a204-6ba53b52f2ed    exposed  2020-07-05     2   \n",
      "3  00187412-2932-4542-a8ef-3633901c98d9    control  2020-07-03    15   \n",
      "4  001a7785-d3fe-4e11-a344-c8735acacc2c    control  2020-07-03    15   \n",
      "\n",
      "          device_make  platform_os                browser  yes  no  \n",
      "0  Generic Smartphone            6          Chrome Mobile    0   0  \n",
      "1  Generic Smartphone            6          Chrome Mobile    0   0  \n",
      "2               E5823            6  Chrome Mobile WebView    0   1  \n",
      "3   Samsung SM-A705FN            6               Facebook    0   0  \n",
      "4  Generic Smartphone            6          Chrome Mobile    0   0  \n"
     ]
    }
   ],
   "source": [
    "# Load the dataset\n",
    "data = pd.read_csv('AdSmartABdata - AdSmartABdata.csv')\n",
    "\n",
    "# Display the first few rows of the dataset to understand its structure\n",
    "print(data.head())\n"
   ]
  },
  {
   "cell_type": "code",
   "execution_count": 6,
   "id": "3585c0d1",
   "metadata": {},
   "outputs": [
    {
     "name": "stdout",
     "output_type": "stream",
     "text": [
      "     Group  Conversion\n",
      "0  exposed           0\n",
      "1  exposed           0\n",
      "2  exposed           0\n",
      "3  control           0\n",
      "4  control           0\n"
     ]
    }
   ],
   "source": [
    "# Prepare the data by filtering only relevant columns\n",
    "data = data[['experiment', 'yes']]\n",
    "\n",
    "# Rename columns for clarity\n",
    "data.columns = ['Group', 'Conversion']\n",
    "\n",
    "# Display the first few rows to confirm the changes\n",
    "print(data.head())\n"
   ]
  },
  {
   "cell_type": "code",
   "execution_count": 7,
   "id": "1bfda6c8",
   "metadata": {},
   "outputs": [
    {
     "name": "stdout",
     "output_type": "stream",
     "text": [
      "Conversion Rate for Control Group: 0.0648\n",
      "Conversion Rate for Exposed Group: 0.0769\n",
      "             mean       std  count\n",
      "Group                             \n",
      "control  0.064849  0.246289   4071\n",
      "exposed  0.076885  0.266442   4006\n"
     ]
    }
   ],
   "source": [
    "# Calculate conversion rates\n",
    "conversion_rates = data.groupby('Group')['Conversion'].mean()\n",
    "print(f\"Conversion Rate for Control Group: {conversion_rates['control']:.4f}\")\n",
    "print(f\"Conversion Rate for Exposed Group: {conversion_rates['exposed']:.4f}\")\n",
    "\n",
    "# Summary statistics\n",
    "summary = data.groupby('Group')['Conversion'].agg(['mean', 'std', 'count'])\n",
    "print(summary)\n"
   ]
  },
  {
   "cell_type": "code",
   "execution_count": 8,
   "id": "295a6494",
   "metadata": {},
   "outputs": [
    {
     "name": "stdout",
     "output_type": "stream",
     "text": [
      "Z-score: 2.1075\n",
      "P-value: 0.0351\n"
     ]
    }
   ],
   "source": [
    "# Sample sizes for each group\n",
    "n_control = summary.loc['control', 'count']\n",
    "n_exposed = summary.loc['exposed', 'count']\n",
    "\n",
    "# Calculate the standard error\n",
    "se_control = np.sqrt(conversion_rates['control'] * (1 - conversion_rates['control']) / n_control)\n",
    "se_exposed = np.sqrt(conversion_rates['exposed'] * (1 - conversion_rates['exposed']) / n_exposed)\n",
    "\n",
    "# Calculate the Z-score\n",
    "z_score = (conversion_rates['exposed'] - conversion_rates['control']) / np.sqrt(se_control**2 + se_exposed**2)\n",
    "print(f\"Z-score: {z_score:.4f}\")\n",
    "\n",
    "# Calculate the p-value\n",
    "p_value = stats.norm.sf(abs(z_score)) * 2  # Two-tailed test\n",
    "print(f\"P-value: {p_value:.4f}\")\n"
   ]
  },
  {
   "cell_type": "code",
   "execution_count": 9,
   "id": "5416f42d",
   "metadata": {},
   "outputs": [
    {
     "name": "stdout",
     "output_type": "stream",
     "text": [
      "Reject the null hypothesis: There is a statistically significant difference in conversion rates.\n"
     ]
    }
   ],
   "source": [
    "alpha = 0.05  # Significance level\n",
    "\n",
    "if p_value < alpha:\n",
    "    print(\"Reject the null hypothesis: There is a statistically significant difference in conversion rates.\")\n",
    "else:\n",
    "    print(\"Fail to reject the null hypothesis: There is no statistically significant difference in conversion rates.\")\n"
   ]
  },
  {
   "cell_type": "code",
   "execution_count": 10,
   "id": "d9b2440b",
   "metadata": {},
   "outputs": [
    {
     "name": "stderr",
     "output_type": "stream",
     "text": [
      "C:\\Users\\My Pc\\AppData\\Local\\Temp\\ipykernel_13720\\1926905927.py:2: FutureWarning: \n",
      "\n",
      "The `ci` parameter is deprecated. Use `errorbar=None` for the same effect.\n",
      "\n",
      "  sns.barplot(x='Group', y='Conversion', data=data, ci=None)\n"
     ]
    },
    {
     "data": {
      "image/png": "[encoded data removed]",
      "text/plain": [
       "<Figure size 640x480 with 1 Axes>"
      ]
     },
     "metadata": {},
     "output_type": "display_data"
    }
   ],
   "source": [
    "# Plot conversion rates\n",
    "sns.barplot(x='Group', y='Conversion', data=data, ci=None)\n",
    "plt.title('Conversion Rates by Group')\n",
    "plt.ylabel('Conversion Rate')\n",
    "plt.show()\n"
   ]
  },
  {
   "cell_type": "code",
   "execution_count": null,
   "id": "ab3d20a7",
   "metadata": {},
   "outputs": [],
   "source": []
  }
 ],
 "metadata": {
  "kernelspec": {
   "display_name": "Python 3 (ipykernel)",
   "language": "python",
   "name": "python3"
  },
  "language_info": {
   "codemirror_mode": {
    "name": "ipython",
    "version": 3
   },
   "file_extension": ".py",
   "mimetype": "text/x-python",
   "name": "python",
   "nbconvert_exporter": "python",
   "pygments_lexer": "ipython3",
   "version": "3.10.9"
  }
 },
 "nbformat": 4,
 "nbformat_minor": 5
}
